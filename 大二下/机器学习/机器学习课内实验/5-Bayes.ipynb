{
 "cells": [
  {
   "cell_type": "code",
   "execution_count": 1,
   "id": "7b485f36-34a8-4d4a-be76-5c6eb281a5f3",
   "metadata": {
    "execution": {
     "iopub.execute_input": "2024-06-14T05:36:34.190108Z",
     "iopub.status.busy": "2024-06-14T05:36:34.188926Z",
     "iopub.status.idle": "2024-06-14T05:36:34.199049Z",
     "shell.execute_reply": "2024-06-14T05:36:34.198051Z",
     "shell.execute_reply.started": "2024-06-14T05:36:34.190070Z"
    },
    "scrolled": true
   },
   "outputs": [],
   "source": [
    "#朴素贝叶斯算法\n",
    "import numpy as np\n",
    "import pandas as pd\n",
    "\n",
    "class NaiveBayes(object):\n",
    "    def __init__(self, X_train, y_train):\n",
    "        self.X_train = X_train  #样本特征\n",
    "        self.y_train = y_train  #样本类别\n",
    "        #训练集样本中每个类别(二分类)的占比，即P(类别)，供后续使用\n",
    "        self.P_label = {1: np.mean(y_train.values), 0: 1-np.mean(y_train.values)}\n",
    "\n",
    "    #在数据集data中, 特征feature的值为value的样本所占比例\n",
    "    #用于计算P(特征|类别)、P(特征)\n",
    "    def getFrequency(self, data, feature, value):\n",
    "        num = len(data[data[feature]==value]) #个数\n",
    "        return num / (len(data))\n",
    "\n",
    "    def predict(self, X_test):\n",
    "        self.prediction = [] #预测类别\n",
    "        # 遍历样本\n",
    "        for i in range(len(X_test)):\n",
    "            x = X_test.iloc[i]      # 第i个样本\n",
    "            P_feature_label0 = 1    # P(特征|类别0)之和\n",
    "            P_feature_label1 = 1    # P(特征|类别1)之和\n",
    "            P_feature = 1           # P(特征)之和\n",
    "            # 遍历特征\n",
    "            for feature in X_test.columns:\n",
    "                # 分子项，P(特征|类别)\n",
    "                data0 = self.X_train[self.y_train.values==0]  #取类别为0的样本\n",
    "                P_feature_label0 *= self.getFrequency(data0, feature, x[feature]) #计算P(feature|0)\n",
    "\n",
    "                data1 = self.X_train[self.y_train.values==1]  #取类别为1的样本\n",
    "                P_feature_label1 *= self.getFrequency(data1, feature, x[feature]) #计算P(feature|1)\n",
    "\n",
    "                # 分母项，P(特征)\n",
    "                P_feature *= self.getFrequency(self.X_train, feature, x[feature])\n",
    "\n",
    "            #属于每个类别的概率\n",
    "            P_0 = (P_feature_label0*self.P_label[0]) / P_feature\n",
    "            P_1 = (P_feature_label1 * self.P_label[1]) / P_feature\n",
    "            #选出大概率值对应的类别\n",
    "            self.prediction.append([1 if P_1>=P_0 else 0])\n",
    "        return self.prediction"
   ]
  },
  {
   "cell_type": "code",
   "execution_count": 2,
   "id": "ca0d82c8-7c89-4605-970c-255b27efe8f8",
   "metadata": {
    "execution": {
     "iopub.execute_input": "2024-06-14T05:36:34.201366Z",
     "iopub.status.busy": "2024-06-14T05:36:34.200942Z",
     "iopub.status.idle": "2024-06-14T05:36:34.214107Z",
     "shell.execute_reply": "2024-06-14T05:36:34.212777Z",
     "shell.execute_reply.started": "2024-06-14T05:36:34.201337Z"
    },
    "scrolled": true
   },
   "outputs": [],
   "source": [
    "#加入拉普拉斯平滑\n",
    "import numpy as np\n",
    "import pandas as pd\n",
    "\n",
    "class NaiveBayes(object):\n",
    "    def __init__(self, X_train, y_train):\n",
    "        self.X_train = X_train  # 训练集样本特征\n",
    "        self.y_train = y_train  # 训练集样本类别\n",
    "        # 训练集样本中每个类别(二分类)的占比，即P(类别)，供后续使用\n",
    "        self.P_label = {1: np.mean(y_train.values), 0: 1 - np.mean(y_train.values)}\n",
    "        self.alpha = 1.0  # 拉普拉斯平滑的平滑参数\n",
    "\n",
    "    # 在数据集data中，特征feature的值为value的样本所占比例，应用拉普拉斯平滑\n",
    "    # 用于计算P(特征|类别)、P(特征)\n",
    "    def getFrequency(self, data, feature, value):\n",
    "        num = len(data[data[feature] == value])  # 特征为value的样本数量\n",
    "        return (num + self.alpha) / (len(data) + self.alpha * len(data[feature].unique()))  # 应用拉普拉斯平滑\n",
    "\n",
    "    def predict(self, X_test):\n",
    "        self.prediction = []  # 预测类别\n",
    "        # 遍历样本\n",
    "        for i in range(len(X_test)):\n",
    "            x = X_test.iloc[i]  # 第i个样本\n",
    "            P_feature_label0 = 1  # P(特征|类别0)之积\n",
    "            P_feature_label1 = 1  # P(特征|类别1)之积\n",
    "            P_feature = 1  # P(特征)之积\n",
    "            # 遍历特征\n",
    "            for feature in X_test.columns:\n",
    "                # 分子项，P(特征|类别)\n",
    "                data0 = self.X_train[self.y_train.values == 0]  # 取类别为0的样本\n",
    "                P_feature_label0 *= self.getFrequency(data0, feature, x[feature])  # 计算P(feature|0)\n",
    "\n",
    "                data1 = self.X_train[self.y_train.values == 1]  # 取类别为1的样本\n",
    "                P_feature_label1 *= self.getFrequency(data1, feature, x[feature])  # 计算P(feature|1)\n",
    "\n",
    "                # 分母项，P(特征)\n",
    "                P_feature *= self.getFrequency(self.X_train, feature, x[feature])\n",
    "\n",
    "            # 属于每个类别的概率\n",
    "            P_0 = (P_feature_label0 * self.P_label[0]) / P_feature\n",
    "            P_1 = (P_feature_label1 * self.P_label[1]) / P_feature\n",
    "            # 选出大概率值对应的类别\n",
    "            self.prediction.append([1 if P_1 >= P_0 else 0])\n",
    "        return self.prediction\n"
   ]
  },
  {
   "cell_type": "code",
   "execution_count": 13,
   "id": "3452dffb-614a-4621-b758-e4c2e6ddfa23",
   "metadata": {
    "execution": {
     "iopub.execute_input": "2024-06-14T05:36:34.216233Z",
     "iopub.status.busy": "2024-06-14T05:36:34.215273Z",
     "iopub.status.idle": "2024-06-14T05:36:34.526709Z",
     "shell.execute_reply": "2024-06-14T05:36:34.525397Z",
     "shell.execute_reply.started": "2024-06-14T05:36:34.216203Z"
    },
    "scrolled": true,
    "tags": []
   },
   "outputs": [
    {
     "name": "stdout",
     "output_type": "stream",
     "text": [
      "0.9666666666666667\r\n"
     ]
    }
   ],
   "source": [
    "# 从CSV文件加载数据\n",
    "# data_df = pd.read_csv('data/data239141/iris_data.csv')\n",
    "from sklearn.datasets import load_iris\n",
    "from sklearn.model_selection import train_test_split\n",
    "from sklearn.metrics import accuracy_score\n",
    "#加载数据\n",
    "X, y = load_iris(return_X_y=True)\n",
    "X, y = pd.DataFrame(X[:100]), pd.DataFrame(y[:100])\n",
    "\n",
    "#训练集、测试集划分\n",
    "X_train, X_test, y_train, y_test =  train_test_split(X, y, test_size=0.3,random_state=42)\n",
    "\n",
    "model = NaiveBayes(X_train, y_train)    #训练\n",
    "y_pre = model.predict(X_test)           #预测\n",
    "print(accuracy_score(y_pre, y_test))    #评分：0.8"
   ]
  },
  {
   "cell_type": "markdown",
   "id": "78c40ce1-211a-4915-9fbb-2d182572f590",
   "metadata": {},
   "source": [
    "**作业任务：\n",
    "本次实验通过西瓜数据集，学习贝叶斯分类的概念与原理，熟练掌握贝叶斯分类技巧，通过合理运用贝叶斯分类方法对西瓜多属性进行品质好坏的正确分类。**\n",
    "![](https://ai-studio-static-online.cdn.bcebos.com/f1c4372cc4774429a000c3dd422797b88612a344b41a4d63b0decc58f7a59e93)\n",
    "![](https://ai-studio-static-online.cdn.bcebos.com/b65dca4af5d545babb8a88224330ccc2675fa756e8e144f982753e136f36582e)\n"
   ]
  },
  {
   "cell_type": "code",
   "execution_count": 3,
   "id": "8e5e8667",
   "metadata": {
    "scrolled": true
   },
   "outputs": [
    {
     "name": "stdout",
     "output_type": "stream",
     "text": [
      "预测结果: [[1]]\r\n",
      "预测结果解释: 1表示好瓜，0表示坏瓜\r\n"
     ]
    }
   ],
   "source": [
    "import numpy as np\n",
    "import pandas as pd\n",
    "\n",
    "class NaiveBayes(object):\n",
    "    def __init__(self, X_train, y_train):\n",
    "        self.X_train = X_train # 训练集样本特征\n",
    "        self.y_train = y_train # 训练集样本类别\n",
    "        # 训练集样本中每个类别(二分类)的占比，即P(类别)，供后续使用\n",
    "        self.P_label = {1: np.mean(y_train.values), 0: 1 - np.mean(y_train.values)}\n",
    "\n",
    "    # 在数据集data中，特征feature的值为value的样本所占比例\n",
    "    # 用于计算P(特征|类别)、P(特征)\n",
    "    def getFrequency(self, data, feature, value):\n",
    "        num = len(data[data[feature] == value]) # 个数\n",
    "        return num / (len(data))\n",
    "\n",
    "    def predict(self, X_test):\n",
    "        self.prediction = [] # 预测类别\n",
    "        # 遍历样本\n",
    "        for i in range(len(X_test)):\n",
    "            x = X_test.iloc[i] # 第i个样本\n",
    "            P_feature_label0 = 1 # P(特征|类别0)之积\n",
    "            P_feature_label1 = 1 # P(特征|类别1)之积\n",
    "            P_feature = 1 # P(特征)之积\n",
    "            # 遍历特征\n",
    "            for feature in X_test.columns:\n",
    "                data0 = self.X_train[self.y_train.values == 0] # 取类别为0的样本\n",
    "                P_feature_label0 *= self.getFrequency(data0, feature, x[feature]) # 计算P(feature|0)\n",
    "\n",
    "                data1 = self.X_train[self.y_train.values == 1] # 取类别为1的样本\n",
    "                P_feature_label1 *= self.getFrequency(data1, feature, x[feature]) # 计算P(feature|1)\n",
    "\n",
    "                # 分母项，P(特征)\n",
    "                P_feature *= self.getFrequency(self.X_train, feature, x[feature])\n",
    "                 # 属于每个类别的概率\n",
    "            P_0 = (P_feature_label0 * self.P_label[0]) / P_feature\n",
    "            P_1 = (P_feature_label1 * self.P_label[1]) / P_feature\n",
    "            # 选出大概率值对应的类别\n",
    "            self.prediction.append([1 if P_1 >= P_0 else 0])\n",
    "        return self.prediction\n",
    "\n",
    "# 手动录入训练数据\n",
    "train_data = {\n",
    "    '色泽': ['青绿', '乌黑', '乌黑', '青绿', '浅白', '青绿', '乌黑', '乌黑', '乌黑', '青绿', '浅白', '浅白', '青绿', '浅白', '乌黑', '浅白', '青绿'],\n",
    "    '根蒂': ['蜷缩', '蜷缩', '蜷缩', '蜷缩', '蜷缩', '稍蜷', '稍蜷', '稍蜷', '稍蜷', '硬挺', '硬挺', '蜷缩', '稍蜷', '稍蜷', '稍蜷', '蜷缩', '蜷缩'],\n",
    "    '敲声': ['浊响', '沉闷', '浊响', '沉闷', '浊响', '浊响', '浊响', '浊响', '沉闷', '清脆', '清脆', '浊响', '浊响', '沉闷', '浊响', '浊响', '沉闷'],\n",
    "    '纹理': ['清晰', '清晰', '清晰', '清晰', '清晰', '清晰', '稍糊', '清晰', '稍糊', '清晰', '模糊', '模糊', '稍糊', '稍糊', '清晰', '模糊', '稍糊'],\n",
    "    '脐部': ['凹陷', '凹陷', '凹陷', '凹陷', '凹陷', '稍凹', '稍凹', '稍凹', '稍凹', '平坦', '平坦', '平坦', '凹陷', '凹陷', '稍凹', '平坦', '稍凹'],\n",
    "    '触感': ['硬滑', '硬滑', '硬滑', '硬滑', '硬滑', '软粘', '软粘', '硬滑', '硬滑', '软粘', '硬滑', '软粘', '硬滑', '硬滑', '软粘', '硬滑', '硬滑'],\n",
    "    '密度': [0.697, 0.774, 0.634, 0.608, 0.556, 0.403, 0.481, 0.437, 0.666, 0.243, 0.245, 0.343, 0.639, 0.657, 0.360, 0.593, 0.719],\n",
    "    '含糖量': [0.460, 0.376, 0.264, 0.318, 0.215, 0.237, 0.149, 0.211, 0.091, 0.267, 0.057, 0.097, 0.161, 0.198, 0.370, 0.042, 0.103],\n",
    "    '好瓜': [1, 1, 1, 1, 1, 1, 1, 1, 0, 0, 0, 0, 0, 0, 0, 0, 0]\n",
    "}\n",
    "train_df = pd.DataFrame(train_data)\n",
    "\n",
    "# 手动录入测试数据\n",
    "test_data = {\n",
    "    '色泽': ['青绿'],\n",
    "    '根蒂': ['蜷缩'],\n",
    "    '敲声': ['浊响'],\n",
    "    '纹理': ['清晰'],\n",
    "    '脐部': ['凹陷'],\n",
    "    '触感': ['硬滑'],\n",
    "    '密度': [0.697],\n",
    "    '含糖量': [0.460]\n",
    "}\n",
    "test_df = pd.DataFrame(test_data)\n",
    "\n",
    "# 训练模型并预测\n",
    "X_train = train_df.drop('好瓜', axis=1)\n",
    "y_train = train_df['好瓜']\n",
    "model = NaiveBayes(X_train, y_train)\n",
    "\n",
    "X_test = test_df\n",
    "y_pre = model.predict(X_test)\n",
    "\n",
    "print(\"预测结果:\", y_pre)\n",
    "print(\"预测结果解释: 1表示好瓜，0表示坏瓜\")"
   ]
  }
 ],
 "metadata": {
  "kernelspec": {
   "display_name": "Python 3.10.10 ('python35-paddle120-env')",
   "language": "python",
   "name": "python3"
  },
  "language_info": {
   "codemirror_mode": {
    "name": "ipython",
    "version": 3
   },
   "file_extension": ".py",
   "mimetype": "text/x-python",
   "name": "python",
   "nbconvert_exporter": "python",
   "pygments_lexer": "ipython3",
   "version": "3.10.10"
  },
  "vscode": {
   "interpreter": {
    "hash": "09f0dbf7b1569c1ab842ae2f41770fe6aa1b54326d081112fa5944b99abb5899"
   }
  }
 },
 "nbformat": 4,
 "nbformat_minor": 5
}
