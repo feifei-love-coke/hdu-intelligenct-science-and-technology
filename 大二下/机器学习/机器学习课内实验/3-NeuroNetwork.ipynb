{
 "cells": [
  {
   "cell_type": "markdown",
   "metadata": {},
   "source": [
    "# 实验3  神经网络"
   ]
  },
  {
   "cell_type": "markdown",
   "metadata": {},
   "source": [
    "### 一、实验目的\n",
    "\n",
    "掌握多层感知器（多层前馈神经网络）和反向传播算法的原理与应用，熟悉Scikit-learn中神经网络模型的使用。  "
   ]
  },
  {
   "cell_type": "markdown",
   "metadata": {},
   "source": [
    "### 二、实验内容"
   ]
  },
  {
   "cell_type": "markdown",
   "metadata": {},
   "source": [
    "####  1.Scikit-learn中神经网络模型类库介绍"
   ]
  },
  {
   "cell_type": "markdown",
   "metadata": {},
   "source": [
    "#### （1）MLPClassifier 类\n",
    "\n",
    "MLPClassifier 类实现了通过 Backpropagation 进行训练的多层感知器（MLP）算法，最小化交叉熵损失函数（包含正则项）：\n",
    "\n",
    "$$Loss\\left(\\hat{y},y,W\\right) = -y \\ln {\\hat{y}} - (1-y) \\ln{(1-\\hat{y})} + \\alpha ||W||_2^2$$\n",
    "\n",
    "$$W^{i+1} = W^i - \\epsilon \\nabla {Loss}_{W}^{i}$$\n",
    "\n",
    "函数说明：\n",
    "\n",
    "class sklearn.neural_network.MLPClassifier(hidden_layer_sizes=(100, ), activation=’relu’, solver=’adam’, alpha=0.0001, batch_size=’auto’, learning_rate=’constant’, learning_rate_init=0.001, power_t=0.5, max_iter=200, shuffle=True, random_state=None, tol=0.0001, verbose=False, warm_start=False, momentum=0.9, nesterovs_momentum=True, early_stopping=False, validation_fraction=0.1, beta_1=0.9, beta_2=0.999, epsilon=1e-08, n_iter_no_change=10)\n",
    "\n",
    "主要参数：\n",
    "\n",
    "1）hidden_layer_sizes—隐层的神经元个数：元组，*i*th元素表示第*i*th隐层的神经元个数，设定网络结构。\n",
    "\n",
    "2）activation—隐层单元激活函数类型：默认’relu’，取值有{‘identity’, ‘logistic’, ‘tanh’, ‘relu’}。\n",
    "\n",
    "3）solver—权重优化算法（求解器）：默认‘adam’，取值有{‘lbfgs’, ‘sgd’, ‘adam’}，‘sgd’随机梯度下降。\n",
    "\n",
    "4）learning_rate_init—学习率：默认0.001，仅solver=’sgd’ or ‘adam’时有效。\n",
    "  "
   ]
  },
  {
   "cell_type": "markdown",
   "metadata": {},
   "source": [
    "#### （2） MLPRegressor 类\n",
    "MLPRegressor 类实现了通过 Backpropagation 进行训练的多层感知器（MLP）算法，最小化均方误差损失函数（包含正则项）：\n",
    "\n",
    "$$Loss\\left(\\hat{y},y,W\\right)= \\frac{1}{2}||\\hat{y} - y ||_2^2 + \\frac{\\alpha}{2} ||W||_2^2$$\n",
    "\n",
    "函数参数与MLPClassifier一致。"
   ]
  },
  {
   "cell_type": "markdown",
   "metadata": {},
   "source": [
    "#### 2 逼近XOR函数的多层感知器"
   ]
  },
  {
   "cell_type": "code",
   "execution_count": 1,
   "metadata": {
    "execution": {
     "iopub.execute_input": "2024-06-07T04:58:49.548225Z",
     "iopub.status.busy": "2024-06-07T04:58:49.547732Z",
     "iopub.status.idle": "2024-06-07T04:58:50.878951Z",
     "shell.execute_reply": "2024-06-07T04:58:50.877875Z",
     "shell.execute_reply.started": "2024-06-07T04:58:49.548194Z"
    },
    "scrolled": true
   },
   "outputs": [
    {
     "name": "stdout",
     "output_type": "stream",
     "text": [
      "Accuracy: 0.5\r\n",
      "True: 0, Predicted: 1\r\n",
      "True: 1, Predicted: 0\r\n",
      "True: 1, Predicted: 1\r\n",
      "True: 0, Predicted: 0\r\n"
     ]
    }
   ],
   "source": [
    "from sklearn.neural_network import MLPClassifier\n",
    "\n",
    "y = [0, 1, 1, 0]\n",
    "X = [[0, 0], [0, 1], [1, 0], [1, 1]]\n",
    "\n",
    "clf = MLPClassifier(solver='lbfgs', activation='logistic', hidden_layer_sizes=(2,), max_iter=100)#, random_state=20)\n",
    "clf.fit(X, y)\n",
    "\n",
    "predictions = clf.predict(X)\n",
    "print('Accuracy: %s' % clf.score(X, y))\n",
    "for i, p in enumerate(predictions):\n",
    "    print('True: %s, Predicted: %s' % (y[i], p))"
   ]
  },
  {
   "cell_type": "markdown",
   "metadata": {},
   "source": [
    "* 观察学习到的网络权重"
   ]
  },
  {
   "cell_type": "code",
   "execution_count": 2,
   "metadata": {
    "execution": {
     "iopub.execute_input": "2024-06-07T04:58:50.881349Z",
     "iopub.status.busy": "2024-06-07T04:58:50.880843Z",
     "iopub.status.idle": "2024-06-07T04:58:50.887079Z",
     "shell.execute_reply": "2024-06-07T04:58:50.886293Z",
     "shell.execute_reply.started": "2024-06-07T04:58:50.881319Z"
    },
    "scrolled": true
   },
   "outputs": [
    {
     "name": "stdout",
     "output_type": "stream",
     "text": [
      "Weights connecting the input layer and the hidden layer: \r\n",
      "[[ 9.89124266 10.03680146]\r\n",
      " [-4.68858291  4.59157324]]\r\n",
      "Hidden layer bias weights: \r\n",
      "[ -8.30693486 -12.96460236]\r\n",
      "Weights connecting the hidden layer and the output layer: \r\n",
      "[[ 8.54512173]\r\n",
      " [-8.35207964]]\r\n",
      "Output layer bias weight: \r\n",
      "[-0.00072346]\r\n"
     ]
    }
   ],
   "source": [
    "print('Weights connecting the input layer and the hidden layer: \\n%s' % clf.coefs_[0])\n",
    "print('Hidden layer bias weights: \\n%s' % clf.intercepts_[0])\n",
    "print('Weights connecting the hidden layer and the output layer: \\n%s' % clf.coefs_[1])\n",
    "print('Output layer bias weight: \\n%s' % clf.intercepts_[1])"
   ]
  },
  {
   "cell_type": "markdown",
   "metadata": {},
   "source": [
    "#### 3 MNIST手写数字分类"
   ]
  },
  {
   "cell_type": "markdown",
   "metadata": {},
   "source": [
    "参考Scikit-learn手册中MLPClassifier的例程：MNIST网络权重可视化（https://scikit-learn.org/stable/auto_examples/neural_networks/plot_mnist_filters.html#sphx-glr-auto-examples-neural-networks-plot-mnist-filters-py），\n",
    "补充修改程序，实现对网络权重的可视化和测试数字图片的识别。\n",
    "\n",
    "Data Set Characteristics:\n",
    "\n",
    "MNIST数据集是机器学习领域中非常经典的一个数据集，由70000个手写数字样本组成，每个样本都是一张28 * 28像素的灰度手写数字图片，但不是以图片格式存储的。\n",
    "\n",
    "![](https://ai-studio-static-online.cdn.bcebos.com/bc059f1fcd6b44d88472cbafacaa3f4d4ee6e7f230a6467986b060efa5fa4d4c)\n"
   ]
  },
  {
   "cell_type": "code",
   "execution_count": 3,
   "metadata": {
    "execution": {
     "iopub.execute_input": "2024-06-07T04:58:50.888531Z",
     "iopub.status.busy": "2024-06-07T04:58:50.888171Z",
     "iopub.status.idle": "2024-06-07T04:58:51.325557Z",
     "shell.execute_reply": "2024-06-07T04:58:51.324762Z",
     "shell.execute_reply.started": "2024-06-07T04:58:50.888505Z"
    },
    "scrolled": true
   },
   "outputs": [],
   "source": [
    "#Load  data from https://www.openml.org/d/554\n",
    "import matplotlib.pyplot as plt\n",
    "from sklearn.datasets import fetch_openml\n",
    "#from sklearn.datasets import fetch_mldata\n",
    "from sklearn.neural_network import MLPClassifier\n",
    "from PIL import Image\n",
    "#X, y = fetch_openml('mnist_784', version=1, return_X_y=True)\n",
    "\n"
   ]
  },
  {
   "cell_type": "code",
   "execution_count": 4,
   "metadata": {
    "execution": {
     "iopub.execute_input": "2024-06-07T04:58:51.327076Z",
     "iopub.status.busy": "2024-06-07T04:58:51.326606Z",
     "iopub.status.idle": "2024-06-07T04:58:58.998201Z",
     "shell.execute_reply": "2024-06-07T04:58:58.997214Z",
     "shell.execute_reply.started": "2024-06-07T04:58:51.327049Z"
    },
    "scrolled": true
   },
   "outputs": [
    {
     "name": "stdout",
     "output_type": "stream",
     "text": [
      "训练集大小: 56000\r\n",
      "测试集大小: 14000\r\n"
     ]
    }
   ],
   "source": [
    "import numpy as np\n",
    "from PIL import Image\n",
    "import matplotlib.pyplot as plt\n",
    "from sklearn.datasets import fetch_openml\n",
    "from sklearn.model_selection import train_test_split\n",
    "from sklearn.neural_network import MLPClassifier\n",
    "from sklearn.metrics import accuracy_score\n",
    "\n",
    "# 加载MNIST 784数据集\n",
    "mnist = fetch_openml('mnist_784', version=1)\n",
    "\n",
    "# 提取特征和标签\n",
    "X, y = mnist['data'], mnist['target']\n",
    "\n",
    "# 将标签转换为整数类型\n",
    "y = y.astype(int)\n",
    "\n",
    "# 随机划分为训练集和测试集，80%用于训练，20%用于测试\n",
    "X_train, X_test, y_train, y_test = train_test_split(X, y, test_size=0.2, random_state=42)\n",
    "\n",
    "# 输出数据集大小\n",
    "print(f\"训练集大小: {X_train.shape[0]}\")\n",
    "print(f\"测试集大小: {X_test.shape[0]}\")"
   ]
  },
  {
   "cell_type": "code",
   "execution_count": null,
   "metadata": {
    "execution": {
     "iopub.execute_input": "2024-06-07T04:58:59.000869Z",
     "iopub.status.busy": "2024-06-07T04:58:59.000426Z"
    },
    "scrolled": true,
    "tags": []
   },
   "outputs": [
    {
     "name": "stdout",
     "output_type": "stream",
     "text": [
      "Iteration 1, loss = 0.68530836\r\n",
      "Iteration 2, loss = 0.24091570\r\n",
      "Iteration 3, loss = 0.18676806\r\n",
      "Iteration 4, loss = 0.16055158\r\n"
     ]
    }
   ],
   "source": [
    "# 构建具有20个隐藏层的MLPClassifier模型，每层包含50个神经元\n",
    "hidden_layers = (50,) * 20\n",
    "mlp = MLPClassifier(hidden_layer_sizes=hidden_layers, max_iter=10, random_state=42, verbose=True)\n",
    "\n",
    "# 训练模型\n",
    "mlp.fit(X_train, y_train)\n",
    "\n",
    "# 预测测试集\n",
    "y_pred = mlp.predict(X_test)\n",
    "\n",
    "# 计算并输出测试集的准确率\n",
    "accuracy = accuracy_score(y_test, y_pred)\n",
    "print(f\"测试集准确率: {accuracy}\")"
   ]
  },
  {
   "cell_type": "code",
   "execution_count": null,
   "metadata": {
    "scrolled": true
   },
   "outputs": [],
   "source": [
    "# 加载手写数字照片\n",
    "image_path = 'infer_3.png'\n",
    "image = Image.open(image_path).convert('L')  # 转换为灰度图\n",
    "image = image.resize((28, 28))  # 调整大小为28x28像素\n",
    "\n",
    "# 显示图片\n",
    "plt.imshow(image, cmap='gray')\n",
    "plt.show()\n",
    "\n",
    "# 图像预处理\n",
    "image_array = np.array(image).reshape(1, -1)  # 转换为1维数组\n",
    "image_array = 255 - image_array  # 反转颜色\n",
    "image_array = image_array / 255.0  # 归一化\n",
    "\n",
    "# 使用训练好的模型进行预测\n",
    "prediction = mlp.predict(image_array)\n",
    "print(f\"预测结果: {prediction[0]}\")"
   ]
  },
  {
   "cell_type": "code",
   "execution_count": null,
   "metadata": {
    "scrolled": true
   },
   "outputs": [],
   "source": [
    "# 可视化第一层权重\n",
    "fig, axes = plt.subplots(5, 10, figsize=(15, 7))\n",
    "vmin, vmax = mlp.coefs_[0].min(), mlp.coefs_[0].max()\n",
    "for coef, ax in zip(mlp.coefs_[0].T, axes.ravel()):\n",
    "    ax.matshow(coef.reshape(28, 28), cmap='viridis', vmin=vmin, vmax=vmax)\n",
    "    ax.axis('off')\n",
    "plt.show()\n",
    "\n",
    "# 可视化最后一层权重\n",
    "fig, axes = plt.subplots(2, 5, figsize=(10, 5))\n",
    "vmin, vmax = mlp.coefs_[-1].min(), mlp.coefs_[-1].max()\n",
    "for coef, ax in zip(mlp.coefs_[-1].T, axes.ravel()):\n",
    "    ax.matshow(coef.reshape(5, 10), cmap='viridis', vmin=vmin, vmax=vmax)\n",
    "    ax.axis('off')\n",
    "plt.show()"
   ]
  },
  {
   "cell_type": "markdown",
   "metadata": {},
   "source": [
    "* 对于手写数字识别的指标除了精度（score）外，还可以采用混淆矩阵\n",
    "\n"
   ]
  },
  {
   "cell_type": "code",
   "execution_count": null,
   "metadata": {
    "scrolled": true
   },
   "outputs": [],
   "source": [
    "from sklearn.metrics import confusion_matrix\n",
    "\n",
    "y_test_pred = mlp.predict(X_test)\n",
    "conf_mx = confusion_matrix(y_test,y_test_pred)\n",
    "\n",
    "plt.matshow(conf_mx,cmap=plt.cm.gray)\n",
    "plt.show()\n",
    "\n",
    "row_sums = conf_mx.sum(axis=1,keepdims=True)\n",
    "#norm_cm=conf_mx/row_sums\n",
    "#new_cm=np.fill_diagonal(norm_cm,0)\n",
    "np.fill_diagonal(conf_mx,0)\n",
    "#row_sums = conf_mx.sum(axis=1,keepdims=True)\n",
    "norm_cm=conf_mx/(row_sums+0.1)\n",
    "plt.matshow(norm_cm,cmap=plt.cm.gray)\n",
    "plt.show()\n",
    "\n"
   ]
  },
  {
   "cell_type": "markdown",
   "metadata": {},
   "source": [
    "#### 4  神经网络回归"
   ]
  },
  {
   "cell_type": "code",
   "execution_count": null,
   "metadata": {
    "scrolled": true
   },
   "outputs": [],
   "source": [
    "from sklearn.neural_network import MLPRegressor\n",
    "\n",
    "\n",
    "X=np.arange(0,10,0.5)\n",
    "y = 4 + np.sin(X) + np.random.rand(len(X))\n",
    "X=np.reshape(X,(1,len(X)))\n",
    "y=np.reshape(y,(1,len(y)))\n",
    "\n",
    "mlpr=MLPRegressor(hidden_layer_sizes=(200,), max_iter=10, alpha=0,solver='sgd', verbose=True, tol=1e-4, random_state=1)\n",
    "mlpr.fit(X,y)\n",
    "Xnew = np.arange(0,10,0.4)\n",
    "Xnew = Xnew +np.random.rand(len(Xnew))\n",
    "y_prd = mlpr.predict(X)\n",
    "plt.plot(X,y,\"r-\")\n",
    "plt.plot(X,y_prd,\"b.\")\n",
    "plt.show"
   ]
  },
  {
   "cell_type": "markdown",
   "metadata": {},
   "source": [
    "#### 实验与讨论\n",
    "* 选择MLPClassifier函数的参数值，比较分类性能并分析总结（至少选取三个参数分别比较，如网络结构、迭代次数、正则项系数、早停等）。\n",
    "\n",
    "例如：hidden_layer_sizes参数分别取(10,)、(20,)、(50,)、(100,)，比较训练集和测试集的分类精度。\n",
    "\n",
    "* 选取一张手写数字图像，添加到文件夹data，进行识别预测。"
   ]
  },
  {
   "attachments": {},
   "cell_type": "markdown",
   "metadata": {},
   "source": [
    "问题1"
   ]
  },
  {
   "cell_type": "code",
   "execution_count": 1,
   "metadata": {},
   "outputs": [
    {
     "name": "stdout",
     "output_type": "stream",
     "text": [
      "\n",
      "=== 测试不同 hidden_layer_sizes ===\n",
      "Hidden layers (2,): Accuracy = 1.0000\n",
      "Hidden layers (4,): Accuracy = 1.0000\n",
      "Hidden layers (2, 2): Accuracy = 1.0000\n",
      "Hidden layers (4, 4): Accuracy = 1.0000\n",
      "\n",
      "=== 测试不同 max_iter ===\n",
      "Max iter 10: Accuracy = 0.7500\n",
      "Max iter 50: Accuracy = 1.0000\n"
     ]
    },
    {
     "name": "stderr",
     "output_type": "stream",
     "text": [
      "/opt/conda/envs/python35-paddle120-env/lib/python3.10/site-packages/sklearn/neural_network/_multilayer_perceptron.py:546: ConvergenceWarning: lbfgs failed to converge (status=1):\n",
      "STOP: TOTAL NO. of ITERATIONS REACHED LIMIT.\n",
      "\n",
      "Increase the number of iterations (max_iter) or scale the data as shown in:\n",
      "    https://scikit-learn.org/stable/modules/preprocessing.html\n",
      "  self.n_iter_ = _check_optimize_result(\"lbfgs\", opt_res, self.max_iter)\n",
      "/opt/conda/envs/python35-paddle120-env/lib/python3.10/site-packages/sklearn/neural_network/_multilayer_perceptron.py:546: ConvergenceWarning: lbfgs failed to converge (status=1):\n",
      "STOP: TOTAL NO. of ITERATIONS REACHED LIMIT.\n",
      "\n",
      "Increase the number of iterations (max_iter) or scale the data as shown in:\n",
      "    https://scikit-learn.org/stable/modules/preprocessing.html\n",
      "  self.n_iter_ = _check_optimize_result(\"lbfgs\", opt_res, self.max_iter)\n"
     ]
    },
    {
     "name": "stdout",
     "output_type": "stream",
     "text": [
      "Max iter 100: Accuracy = 1.0000\n",
      "Max iter 200: Accuracy = 1.0000\n",
      "\n",
      "=== 测试不同 alpha ===\n",
      "Alpha 0.0001: Accuracy = 1.0000\n",
      "Alpha 0.001: Accuracy = 1.0000\n",
      "Alpha 0.01: Accuracy = 1.0000\n",
      "Alpha 0.1: Accuracy = 0.5000\n"
     ]
    }
   ],
   "source": [
    "from sklearn.neural_network import MLPClassifier\n",
    "\n",
    "X = [[0, 0], [0, 1], [1, 0], [1, 1]]\n",
    "y = [0, 1, 1, 0]\n",
    "\n",
    "print(\"\\n=== 测试不同 hidden_layer_sizes ===\")\n",
    "hidden_layer_configs = [(2,), (4,), (2, 2), (4, 4)]\n",
    "for hidden_layers in hidden_layer_configs:\n",
    "    clf = MLPClassifier(solver='lbfgs', activation='logistic', \n",
    "                       hidden_layer_sizes=hidden_layers, max_iter=100)\n",
    "    clf.fit(X, y)\n",
    "    accuracy = clf.score(X, y)\n",
    "    print(f\"Hidden layers {hidden_layers}: Accuracy = {accuracy:.4f}\")\n",
    "print(\"\\n=== 测试不同 max_iter ===\")\n",
    "max_iter_values = [10, 50, 100, 200]\n",
    "for max_iter in max_iter_values:\n",
    "    clf = MLPClassifier(solver='lbfgs', activation='logistic', \n",
    "                       hidden_layer_sizes=(2,), max_iter=max_iter)\n",
    "    clf.fit(X, y)\n",
    "    accuracy = clf.score(X, y)\n",
    "    print(f\"Max iter {max_iter}: Accuracy = {accuracy:.4f}\")\n",
    "print(\"\\n=== 测试不同 alpha ===\")\n",
    "alpha_values = [0.0001, 0.001, 0.01, 0.1]\n",
    "for alpha in alpha_values:\n",
    "    clf = MLPClassifier(solver='lbfgs', activation='logistic', \n",
    "                       hidden_layer_sizes=(2,), max_iter=100, alpha=alpha)\n",
    "    clf.fit(X, y)\n",
    "    accuracy = clf.score(X, y)\n",
    "    print(f\"Alpha {alpha}: Accuracy = {accuracy:.4f}\")"
   ]
  },
  {
   "attachments": {},
   "cell_type": "markdown",
   "metadata": {},
   "source": [
    "问题二"
   ]
  },
  {
   "cell_type": "code",
   "execution_count": 4,
   "metadata": {},
   "outputs": [
    {
     "name": "stdout",
     "output_type": "stream",
     "text": [
      "Iteration 1, loss = 0.99917582\n",
      "Iteration 2, loss = 0.23682228\n",
      "Iteration 3, loss = 0.16112739\n",
      "Iteration 4, loss = 0.12999048\n",
      "Iteration 5, loss = 0.10505893\n",
      "Iteration 6, loss = 0.08819903\n",
      "Iteration 7, loss = 0.07950103\n",
      "Iteration 8, loss = 0.06643171\n",
      "Iteration 9, loss = 0.06406704\n",
      "Iteration 10, loss = 0.06979008\n"
     ]
    },
    {
     "name": "stderr",
     "output_type": "stream",
     "text": [
      "/opt/conda/envs/python35-paddle120-env/lib/python3.10/site-packages/sklearn/neural_network/_multilayer_perceptron.py:691: ConvergenceWarning: Stochastic Optimizer: Maximum iterations (10) reached and the optimization hasn't converged yet.\n",
      "  warnings.warn(\n"
     ]
    },
    {
     "name": "stdout",
     "output_type": "stream",
     "text": [
      "测试集准确率: 0.962\n"
     ]
    },
    {
     "data": {
      "image/png": "[encoded data removed]",
      "text/plain": [
       "<Figure size 640x480 with 1 Axes>"
      ]
     },
     "metadata": {},
     "output_type": "display_data"
    },
    {
     "name": "stdout",
     "output_type": "stream",
     "text": [
      "预测结果: 5\n"
     ]
    },
    {
     "name": "stderr",
     "output_type": "stream",
     "text": [
      "/opt/conda/envs/python35-paddle120-env/lib/python3.10/site-packages/sklearn/utils/validation.py:2739: UserWarning: X does not have valid feature names, but MLPClassifier was fitted with feature names\n",
      "  warnings.warn(\n"
     ]
    }
   ],
   "source": [
    "import numpy as np\n",
    "from PIL import Image\n",
    "import matplotlib.pyplot as plt\n",
    "from sklearn.datasets import fetch_openml\n",
    "from sklearn.model_selection import train_test_split\n",
    "from sklearn.neural_network import MLPClassifier\n",
    "from sklearn.metrics import accuracy_score\n",
    "\n",
    "# 加载MNIST 784数据集\n",
    "mnist = fetch_openml('mnist_784', version=1)\n",
    "\n",
    "# 提取特征和标签\n",
    "X, y = mnist['data'], mnist['target']\n",
    "\n",
    "# 将标签转换为整数类型\n",
    "y = y.astype(int)\n",
    "\n",
    "# 随机划分为训练集和测试集，80%用于训练，20%用于测试\n",
    "X_train, X_test, y_train, y_test = train_test_split(X, y, test_size=0.2, random_state=42)\n",
    "\n",
    "# 构建具有20个隐藏层的MLPClassifier模型，每层包含50个神经元\n",
    "hidden_layers = (100,) * 5\n",
    "mlp = MLPClassifier(hidden_layer_sizes=hidden_layers, max_iter=10, random_state=42, verbose=True, alpha=0.001)\n",
    "\n",
    "# 训练模型\n",
    "mlp.fit(X_train, y_train)\n",
    "\n",
    "# 预测测试集\n",
    "y_pred = mlp.predict(X_test)\n",
    "\n",
    "# 计算并输出测试集的准确率\n",
    "accuracy = accuracy_score(y_test, y_pred)\n",
    "print(f\"测试集准确率: {accuracy}\")\n",
    "\n",
    "# 加载手写数字照片\n",
    "image_path = '//home//aistudio//data/5.png'\n",
    "image = Image.open(image_path).convert('L')  # 转换为灰度图\n",
    "image = image.resize((28, 28))  # 调整大小为28x28像素\n",
    "\n",
    "# 显示图片\n",
    "plt.imshow(image, cmap='gray')\n",
    "plt.show()\n",
    "\n",
    "# 图像预处理\n",
    "image_array = np.array(image).reshape(1, -1)  # 转换为1维数组\n",
    "image_array = 255 - image_array  # 反转颜色\n",
    "image_array = image_array / 255.0  # 归一化\n",
    "\n",
    "# 使用训练好的模型进行预测\n",
    "prediction = mlp.predict(image_array)\n",
    "print(f\"预测结果: {prediction[0]}\")"
   ]
  },
  {
   "cell_type": "markdown",
   "metadata": {},
   "source": [
    "### 三、实验结果与分析"
   ]
  },
  {
   "cell_type": "markdown",
   "metadata": {},
   "source": [
    "（请给出实验内容中“实验与讨论”中的结果及其分析。）\n",
    "\n",
    "\n",
    "\n"
   ]
  }
 ],
 "metadata": {
  "kernelspec": {
   "display_name": "Python 3.10.10 ('python35-paddle120-env')",
   "language": "python",
   "name": "python3"
  },
  "language_info": {
   "codemirror_mode": {
    "name": "ipython",
    "version": 3
   },
   "file_extension": ".py",
   "mimetype": "text/x-python",
   "name": "python",
   "nbconvert_exporter": "python",
   "pygments_lexer": "ipython3",
   "version": "3.10.10"
  },
  "vscode": {
   "interpreter": {
    "hash": "09f0dbf7b1569c1ab842ae2f41770fe6aa1b54326d081112fa5944b99abb5899"
   }
  }
 },
 "nbformat": 4,
 "nbformat_minor": 4
}
